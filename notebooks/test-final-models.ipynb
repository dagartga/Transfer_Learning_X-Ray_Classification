{
 "cells": [
  {
   "cell_type": "code",
   "execution_count": 1,
   "id": "2e872341",
   "metadata": {
    "_cell_guid": "b1076dfc-b9ad-4769-8c92-a6c4dae69d19",
    "_uuid": "8f2839f25d086af736a60e9eeb907d3b93b6e0e5",
    "execution": {
     "iopub.execute_input": "2023-01-15T03:45:38.952753Z",
     "iopub.status.busy": "2023-01-15T03:45:38.950903Z",
     "iopub.status.idle": "2023-01-15T03:45:46.308079Z",
     "shell.execute_reply": "2023-01-15T03:45:46.308694Z",
     "shell.execute_reply.started": "2023-01-14T16:48:25.422964Z"
    },
    "papermill": {
     "duration": 7.381226,
     "end_time": "2023-01-15T03:45:46.309109",
     "exception": false,
     "start_time": "2023-01-15T03:45:38.927883",
     "status": "completed"
    },
    "tags": []
   },
   "outputs": [
    {
     "name": "stderr",
     "output_type": "stream",
     "text": [
      "2023-01-15 03:45:39.713611: W tensorflow/stream_executor/platform/default/dso_loader.cc:60] Could not load dynamic library 'libcudart.so.11.0'; dlerror: libcudart.so.11.0: cannot open shared object file: No such file or directory; LD_LIBRARY_PATH: /opt/conda/lib\n",
      "2023-01-15 03:45:39.713796: I tensorflow/stream_executor/cuda/cudart_stub.cc:29] Ignore above cudart dlerror if you do not have a GPU set up on your machine.\n"
     ]
    }
   ],
   "source": [
    "# This Python 3 environment comes with many helpful analytics libraries installed\n",
    "# It is defined by the kaggle/python Docker image: https://github.com/kaggle/docker-python\n",
    "# For example, here's several helpful packages to load\n",
    "\n",
    "import numpy as np # linear algebra\n",
    "import pandas as pd # data processing, CSV file I/O (e.g. pd.read_csv)\n",
    "import tensorflow as tf\n",
    "from kaggle_datasets import KaggleDatasets\n",
    "import matplotlib.pyplot as plt\n",
    "from sklearn.model_selection import train_test_split\n",
    "from sklearn.metrics import roc_curve, auc\n",
    "import re\n",
    "import glob\n",
    "import random\n",
    "import seaborn as sns\n",
    "import matplotlib.pyplot as plt\n",
    "\n",
    "# Input data files are available in the read-only \"../input/\" directory\n",
    "# For example, running this (by clicking run or pressing Shift+Enter) will list all files under the input directory\n",
    "\n",
    "import os\n",
    "# for dirname, _, filenames in os.walk('/kaggle/input'):\n",
    "#     for filename in filenames:\n",
    "#         print(os.path.join(dirname, filename))\n",
    "\n",
    "# You can write up to 20GB to the current directory (/kaggle/working/) that gets preserved as output when you create a version using \"Save & Run All\" \n",
    "# You can also write temporary files to /kaggle/temp/, but they won't be saved outside of the current session"
   ]
  },
  {
   "cell_type": "code",
   "execution_count": 2,
   "id": "ef198bd1",
   "metadata": {
    "execution": {
     "iopub.execute_input": "2023-01-15T03:45:46.347592Z",
     "iopub.status.busy": "2023-01-15T03:45:46.346483Z",
     "iopub.status.idle": "2023-01-15T03:45:51.654298Z",
     "shell.execute_reply": "2023-01-15T03:45:51.654870Z",
     "shell.execute_reply.started": "2023-01-14T16:52:01.950754Z"
    },
    "papermill": {
     "duration": 5.328576,
     "end_time": "2023-01-15T03:45:51.655088",
     "exception": false,
     "start_time": "2023-01-15T03:45:46.326512",
     "status": "completed"
    },
    "tags": []
   },
   "outputs": [
    {
     "name": "stdout",
     "output_type": "stream",
     "text": [
      "Device: grpc://10.0.0.2:8470\n"
     ]
    },
    {
     "name": "stderr",
     "output_type": "stream",
     "text": [
      "2023-01-15 03:45:46.353455: I tensorflow/compiler/jit/xla_cpu_device.cc:41] Not creating XLA devices, tf_xla_enable_xla_devices not set\n",
      "2023-01-15 03:45:46.357444: W tensorflow/stream_executor/platform/default/dso_loader.cc:60] Could not load dynamic library 'libcuda.so.1'; dlerror: libcuda.so.1: cannot open shared object file: No such file or directory; LD_LIBRARY_PATH: /opt/conda/lib\n",
      "2023-01-15 03:45:46.357492: W tensorflow/stream_executor/cuda/cuda_driver.cc:326] failed call to cuInit: UNKNOWN ERROR (303)\n",
      "2023-01-15 03:45:46.357525: I tensorflow/stream_executor/cuda/cuda_diagnostics.cc:156] kernel driver does not appear to be running on this host (eb2da5be10ad): /proc/driver/nvidia/version does not exist\n",
      "2023-01-15 03:45:46.360607: I tensorflow/core/platform/cpu_feature_guard.cc:142] This TensorFlow binary is optimized with oneAPI Deep Neural Network Library (oneDNN) to use the following CPU instructions in performance-critical operations:  AVX2 FMA\n",
      "To enable them in other operations, rebuild TensorFlow with the appropriate compiler flags.\n",
      "2023-01-15 03:45:46.362222: I tensorflow/compiler/jit/xla_gpu_device.cc:99] Not creating XLA devices, tf_xla_enable_xla_devices not set\n",
      "2023-01-15 03:45:46.367530: I tensorflow/compiler/jit/xla_gpu_device.cc:99] Not creating XLA devices, tf_xla_enable_xla_devices not set\n",
      "2023-01-15 03:45:46.393718: I tensorflow/core/distributed_runtime/rpc/grpc_channel.cc:301] Initialize GrpcChannelCache for job worker -> {0 -> 10.0.0.2:8470}\n",
      "2023-01-15 03:45:46.393788: I tensorflow/core/distributed_runtime/rpc/grpc_channel.cc:301] Initialize GrpcChannelCache for job localhost -> {0 -> localhost:30019}\n",
      "2023-01-15 03:45:46.417819: I tensorflow/core/distributed_runtime/rpc/grpc_channel.cc:301] Initialize GrpcChannelCache for job worker -> {0 -> 10.0.0.2:8470}\n",
      "2023-01-15 03:45:46.417882: I tensorflow/core/distributed_runtime/rpc/grpc_channel.cc:301] Initialize GrpcChannelCache for job localhost -> {0 -> localhost:30019}\n",
      "2023-01-15 03:45:46.419606: I tensorflow/core/distributed_runtime/rpc/grpc_server_lib.cc:411] Started server with target: grpc://localhost:30019\n"
     ]
    },
    {
     "name": "stdout",
     "output_type": "stream",
     "text": [
      "Number of replicas: 8\n",
      "2.4.1\n"
     ]
    }
   ],
   "source": [
    "try:\n",
    "    tpu = tf.distribute.cluster_resolver.TPUClusterResolver()\n",
    "    print('Device:', tpu.master())\n",
    "    tf.config.experimental_connect_to_cluster(tpu)\n",
    "    tf.tpu.experimental.initialize_tpu_system(tpu)\n",
    "    strategy = tf.distribute.experimental.TPUStrategy(tpu)\n",
    "except:\n",
    "    strategy = tf.distribute.get_strategy()\n",
    "print('Number of replicas:', strategy.num_replicas_in_sync)\n",
    "\n",
    "print(tf.__version__)"
   ]
  },
  {
   "cell_type": "code",
   "execution_count": 3,
   "id": "d1004b94",
   "metadata": {
    "execution": {
     "iopub.execute_input": "2023-01-15T03:45:51.703659Z",
     "iopub.status.busy": "2023-01-15T03:45:51.693013Z",
     "iopub.status.idle": "2023-01-15T03:45:52.047666Z",
     "shell.execute_reply": "2023-01-15T03:45:52.048270Z",
     "shell.execute_reply.started": "2023-01-14T16:52:12.551364Z"
    },
    "papermill": {
     "duration": 0.376195,
     "end_time": "2023-01-15T03:45:52.048493",
     "exception": false,
     "start_time": "2023-01-15T03:45:51.672298",
     "status": "completed"
    },
    "tags": []
   },
   "outputs": [],
   "source": [
    "AUTOTUNE = tf.data.experimental.AUTOTUNE\n",
    "GCS_PATH = KaggleDatasets().get_gcs_path('chest-xray-pneumonia')\n",
    "BATCH_SIZE = 64*strategy.num_replicas_in_sync\n",
    "#BATCH_SIZE = 64 # for non-TPU use\n",
    "IMAGE_SIZE = [180, 180]\n",
    "EPOCHS = 50"
   ]
  },
  {
   "cell_type": "code",
   "execution_count": 4,
   "id": "337da5e4",
   "metadata": {
    "execution": {
     "iopub.execute_input": "2023-01-15T03:45:52.087760Z",
     "iopub.status.busy": "2023-01-15T03:45:52.086675Z",
     "iopub.status.idle": "2023-01-15T03:45:53.597381Z",
     "shell.execute_reply": "2023-01-15T03:45:53.598016Z",
     "shell.execute_reply.started": "2023-01-14T16:52:25.993824Z"
    },
    "papermill": {
     "duration": 1.532267,
     "end_time": "2023-01-15T03:45:53.598249",
     "exception": false,
     "start_time": "2023-01-15T03:45:52.065982",
     "status": "completed"
    },
    "tags": []
   },
   "outputs": [
    {
     "name": "stderr",
     "output_type": "stream",
     "text": [
      "2023-01-15 03:45:52.094096: I tensorflow/core/platform/cloud/google_auth_provider.cc:180] Attempting an empty bearer token since no token was retrieved from files, and GCE metadata check was skipped.\n",
      "2023-01-15 03:45:52.204546: I tensorflow/core/platform/cloud/google_auth_provider.cc:180] Attempting an empty bearer token since no token was retrieved from files, and GCE metadata check was skipped.\n",
      "2023-01-15 03:45:52.305438: I tensorflow/core/platform/cloud/google_auth_provider.cc:180] Attempting an empty bearer token since no token was retrieved from files, and GCE metadata check was skipped.\n",
      "2023-01-15 03:45:52.402690: I tensorflow/core/platform/cloud/google_auth_provider.cc:180] Attempting an empty bearer token since no token was retrieved from files, and GCE metadata check was skipped.\n",
      "2023-01-15 03:45:52.493888: I tensorflow/core/platform/cloud/google_auth_provider.cc:180] Attempting an empty bearer token since no token was retrieved from files, and GCE metadata check was skipped.\n",
      "2023-01-15 03:45:52.590893: I tensorflow/core/platform/cloud/google_auth_provider.cc:180] Attempting an empty bearer token since no token was retrieved from files, and GCE metadata check was skipped.\n"
     ]
    },
    {
     "name": "stdout",
     "output_type": "stream",
     "text": [
      "The total number of files is 5856\n"
     ]
    },
    {
     "name": "stderr",
     "output_type": "stream",
     "text": [
      "2023-01-15 03:45:53.424800: I tensorflow/core/platform/cloud/google_auth_provider.cc:180] Attempting an empty bearer token since no token was retrieved from files, and GCE metadata check was skipped.\n",
      "2023-01-15 03:45:53.494195: I tensorflow/core/platform/cloud/google_auth_provider.cc:180] Attempting an empty bearer token since no token was retrieved from files, and GCE metadata check was skipped.\n"
     ]
    }
   ],
   "source": [
    "filenames = tf.io.gfile.glob(str(GCS_PATH + '/chest_xray/train/*/*'))\n",
    "filenames.extend(tf.io.gfile.glob(str(GCS_PATH + '/chest_xray/val/*/*')))\n",
    "filenames.extend(tf.io.gfile.glob(str(GCS_PATH + '/chest_xray/test/*/*')))\n",
    "\n",
    "print(f'The total number of files is {len(filenames)}')"
   ]
  },
  {
   "cell_type": "code",
   "execution_count": 5,
   "id": "5b74b94f",
   "metadata": {
    "execution": {
     "iopub.execute_input": "2023-01-15T03:45:53.646842Z",
     "iopub.status.busy": "2023-01-15T03:45:53.643306Z",
     "iopub.status.idle": "2023-01-15T03:45:53.650789Z",
     "shell.execute_reply": "2023-01-15T03:45:53.649938Z",
     "shell.execute_reply.started": "2023-01-14T16:52:28.169404Z"
    },
    "papermill": {
     "duration": 0.033899,
     "end_time": "2023-01-15T03:45:53.650964",
     "exception": false,
     "start_time": "2023-01-15T03:45:53.617065",
     "status": "completed"
    },
    "tags": []
   },
   "outputs": [],
   "source": [
    "# split the data into 60:40 for train:test+val\n",
    "train_files, val_test_files = train_test_split(filenames, test_size=0.4,random_state=18)"
   ]
  },
  {
   "cell_type": "code",
   "execution_count": 6,
   "id": "f3c5f5c3",
   "metadata": {
    "execution": {
     "iopub.execute_input": "2023-01-15T03:45:53.695950Z",
     "iopub.status.busy": "2023-01-15T03:45:53.695119Z",
     "iopub.status.idle": "2023-01-15T03:45:53.698220Z",
     "shell.execute_reply": "2023-01-15T03:45:53.698845Z",
     "shell.execute_reply.started": "2023-01-14T16:52:29.583671Z"
    },
    "papermill": {
     "duration": 0.029659,
     "end_time": "2023-01-15T03:45:53.699051",
     "exception": false,
     "start_time": "2023-01-15T03:45:53.669392",
     "status": "completed"
    },
    "tags": []
   },
   "outputs": [],
   "source": [
    "# split the val_test_files to 50:50 to have a final split of 60:20:20 of train:val:test\n",
    "val_files, test_files = train_test_split(val_test_files, test_size=0.5, random_state=18)"
   ]
  },
  {
   "cell_type": "code",
   "execution_count": 7,
   "id": "092bac18",
   "metadata": {
    "execution": {
     "iopub.execute_input": "2023-01-15T03:45:53.757858Z",
     "iopub.status.busy": "2023-01-15T03:45:53.756716Z",
     "iopub.status.idle": "2023-01-15T03:45:53.760953Z",
     "shell.execute_reply": "2023-01-15T03:45:53.760173Z",
     "shell.execute_reply.started": "2023-01-14T16:52:30.573654Z"
    },
    "papermill": {
     "duration": 0.042372,
     "end_time": "2023-01-15T03:45:53.761130",
     "exception": false,
     "start_time": "2023-01-15T03:45:53.718758",
     "status": "completed"
    },
    "tags": []
   },
   "outputs": [],
   "source": [
    "pct_df = pd.DataFrame(columns = ['data_set', 'label', 'pct'], index = range(6))\n",
    "\n",
    "totals = {'train':len(train_files), 'val':len(val_files), 'test':len(test_files)}\n",
    "\n",
    "\n",
    "re_pattern = '.*/(NORMAL|PNEUMONIA)/.*'\n",
    "\n",
    "\n",
    "test_pneum_count = 0\n",
    "test_norm_count = 0\n",
    "for file in test_files:\n",
    "    re_match = re.match(re_pattern, file)\n",
    "    if re_match[1] == 'NORMAL':\n",
    "        test_norm_count += 1\n",
    "    else:\n",
    "        test_pneum_count += 1\n",
    "\n",
    "pct_df.iloc[2, :] = ['test', 'NORMAL', round(100* test_norm_count / totals['test'], 1)]\n",
    "pct_df.iloc[3, :] = ['test', 'PNEUMONIA', round(100* test_pneum_count / totals['test'], 1)]\n",
    "\n"
   ]
  },
  {
   "cell_type": "code",
   "execution_count": 8,
   "id": "787485a6",
   "metadata": {
    "execution": {
     "iopub.execute_input": "2023-01-15T03:45:53.816682Z",
     "iopub.status.busy": "2023-01-15T03:45:53.815633Z",
     "iopub.status.idle": "2023-01-15T03:45:53.842872Z",
     "shell.execute_reply": "2023-01-15T03:45:53.843504Z",
     "shell.execute_reply.started": "2023-01-14T16:52:32.376617Z"
    },
    "papermill": {
     "duration": 0.064205,
     "end_time": "2023-01-15T03:45:53.843740",
     "exception": false,
     "start_time": "2023-01-15T03:45:53.779535",
     "status": "completed"
    },
    "tags": []
   },
   "outputs": [
    {
     "name": "stdout",
     "output_type": "stream",
     "text": [
      "----Testing Files----\n",
      "b'gs://kds-4d40db045e37c7ef8a36d6829892b44c7a9fe6fc766dd777c2adbdcf/chest_xray/train/PNEUMONIA/person1519_bacteria_3970.jpeg'\n",
      "b'gs://kds-4d40db045e37c7ef8a36d6829892b44c7a9fe6fc766dd777c2adbdcf/chest_xray/train/NORMAL/NORMAL2-IM-0529-0001.jpeg'\n",
      "b'gs://kds-4d40db045e37c7ef8a36d6829892b44c7a9fe6fc766dd777c2adbdcf/chest_xray/train/PNEUMONIA/person860_virus_1505.jpeg'\n",
      "b'gs://kds-4d40db045e37c7ef8a36d6829892b44c7a9fe6fc766dd777c2adbdcf/chest_xray/train/PNEUMONIA/person51_bacteria_248.jpeg'\n",
      "b'gs://kds-4d40db045e37c7ef8a36d6829892b44c7a9fe6fc766dd777c2adbdcf/chest_xray/train/NORMAL/IM-0201-0001.jpeg'\n"
     ]
    }
   ],
   "source": [
    "test_list_ds = tf.data.Dataset.from_tensor_slices(test_files)\n",
    "\n",
    "#view the file paths for training\n",
    "print('----Testing Files----')\n",
    "for f in test_list_ds.take(5):\n",
    "    print(f.numpy())"
   ]
  },
  {
   "cell_type": "code",
   "execution_count": 9,
   "id": "fb1ccfba",
   "metadata": {
    "execution": {
     "iopub.execute_input": "2023-01-15T03:45:53.889168Z",
     "iopub.status.busy": "2023-01-15T03:45:53.888082Z",
     "iopub.status.idle": "2023-01-15T03:45:53.892248Z",
     "shell.execute_reply": "2023-01-15T03:45:53.892765Z",
     "shell.execute_reply.started": "2023-01-14T16:52:33.823645Z"
    },
    "papermill": {
     "duration": 0.029805,
     "end_time": "2023-01-15T03:45:53.892973",
     "exception": false,
     "start_time": "2023-01-15T03:45:53.863168",
     "status": "completed"
    },
    "tags": []
   },
   "outputs": [
    {
     "name": "stderr",
     "output_type": "stream",
     "text": [
      "2023-01-15 03:45:53.841828: W ./tensorflow/core/distributed_runtime/eager/destroy_tensor_handle_node.h:57] Ignoring an error encountered when deleting remote tensors handles: Invalid argument: Unable to find the relevant tensor remote_handle: Op ID: 24, Output num: 0\n",
      "Additional GRPC error information from remote target /job:worker/replica:0/task:0:\n",
      ":{\"created\":\"@1673754353.838442653\",\"description\":\"Error received from peer ipv4:10.0.0.2:8470\",\"file\":\"external/com_github_grpc_grpc/src/core/lib/surface/call.cc\",\"file_line\":1056,\"grpc_message\":\"Unable to find the relevant tensor remote_handle: Op ID: 24, Output num: 0\",\"grpc_status\":3}\n"
     ]
    }
   ],
   "source": [
    "TEST_IMG_COUNT = tf.data.experimental.cardinality(test_list_ds).numpy()"
   ]
  },
  {
   "cell_type": "code",
   "execution_count": 10,
   "id": "450fcc6b",
   "metadata": {
    "execution": {
     "iopub.execute_input": "2023-01-15T03:45:53.939129Z",
     "iopub.status.busy": "2023-01-15T03:45:53.938392Z",
     "iopub.status.idle": "2023-01-15T03:45:53.942996Z",
     "shell.execute_reply": "2023-01-15T03:45:53.942399Z",
     "shell.execute_reply.started": "2023-01-14T16:52:34.631495Z"
    },
    "papermill": {
     "duration": 0.031385,
     "end_time": "2023-01-15T03:45:53.943151",
     "exception": false,
     "start_time": "2023-01-15T03:45:53.911766",
     "status": "completed"
    },
    "tags": []
   },
   "outputs": [],
   "source": [
    "# will label as 1 if pneumonia otherwise 0\n",
    "def get_label(file_path):\n",
    "    parts = tf.strings.split(file_path, os.path.sep)\n",
    "    return parts[-2] == 'PNEUMONIA'\n",
    "\n",
    "def decode_img(img):\n",
    "    img = tf.image.decode_jpeg(img, channels=3)\n",
    "    img = tf.image.convert_image_dtype(img, tf.float32)\n",
    "    return tf.image.resize(img, IMAGE_SIZE)\n",
    "\n",
    "def process_path(file_path):\n",
    "    label = get_label(file_path)\n",
    "    img = tf.io.read_file(file_path)\n",
    "    img = decode_img(img)\n",
    "    return img, label"
   ]
  },
  {
   "cell_type": "code",
   "execution_count": 11,
   "id": "c8f679aa",
   "metadata": {
    "execution": {
     "iopub.execute_input": "2023-01-15T03:45:53.991802Z",
     "iopub.status.busy": "2023-01-15T03:45:53.990829Z",
     "iopub.status.idle": "2023-01-15T03:45:54.462489Z",
     "shell.execute_reply": "2023-01-15T03:45:54.463452Z",
     "shell.execute_reply.started": "2023-01-14T16:52:35.445001Z"
    },
    "papermill": {
     "duration": 0.501597,
     "end_time": "2023-01-15T03:45:54.463763",
     "exception": false,
     "start_time": "2023-01-15T03:45:53.962166",
     "status": "completed"
    },
    "tags": []
   },
   "outputs": [],
   "source": [
    "test_ds = test_list_ds.map(process_path, num_parallel_calls=AUTOTUNE)"
   ]
  },
  {
   "cell_type": "code",
   "execution_count": 12,
   "id": "258358ab",
   "metadata": {
    "execution": {
     "iopub.execute_input": "2023-01-15T03:45:54.510284Z",
     "iopub.status.busy": "2023-01-15T03:45:54.509427Z",
     "iopub.status.idle": "2023-01-15T03:46:41.710153Z",
     "shell.execute_reply": "2023-01-15T03:46:41.709519Z",
     "shell.execute_reply.started": "2023-01-14T16:52:36.429370Z"
    },
    "papermill": {
     "duration": 47.226809,
     "end_time": "2023-01-15T03:46:41.710350",
     "exception": false,
     "start_time": "2023-01-15T03:45:54.483541",
     "status": "completed"
    },
    "tags": []
   },
   "outputs": [
    {
     "name": "stdout",
     "output_type": "stream",
     "text": [
      "Test Counts\n",
      "Pneumonia count: 849\n",
      "Normal count: 323\n"
     ]
    }
   ],
   "source": [
    "y_test = []\n",
    "for image, label in test_ds.take(TEST_IMG_COUNT):\n",
    "    y_test.append(label)\n",
    "    \n",
    "print('Test Counts')\n",
    "print(f'Pneumonia count: {np.sum(y_test)}\\nNormal count: {TEST_IMG_COUNT - np.sum(y_test)}')"
   ]
  },
  {
   "cell_type": "code",
   "execution_count": 13,
   "id": "aee2def9",
   "metadata": {
    "execution": {
     "iopub.execute_input": "2023-01-15T03:46:41.759724Z",
     "iopub.status.busy": "2023-01-15T03:46:41.758975Z",
     "iopub.status.idle": "2023-01-15T03:46:41.762150Z",
     "shell.execute_reply": "2023-01-15T03:46:41.761529Z",
     "shell.execute_reply.started": "2023-01-14T16:53:24.460591Z"
    },
    "papermill": {
     "duration": 0.031425,
     "end_time": "2023-01-15T03:46:41.762324",
     "exception": false,
     "start_time": "2023-01-15T03:46:41.730899",
     "status": "completed"
    },
    "tags": []
   },
   "outputs": [],
   "source": [
    "def prepare_for_training(ds, cache=True, shuffle_buffer_size=1000):\n",
    "    \n",
    "    if cache:\n",
    "        if isinstance(cache, str):\n",
    "            ds = ds.cache(cache)\n",
    "        else:\n",
    "            ds = ds.cache()\n",
    "            \n",
    "    ds = ds.shuffle(buffer_size=shuffle_buffer_size)\n",
    "    \n",
    "    ds = ds.repeat()\n",
    "    \n",
    "    ds = ds.batch(BATCH_SIZE)\n",
    "    \n",
    "    ds = ds.prefetch(buffer_size=AUTOTUNE)\n",
    "    \n",
    "    return ds"
   ]
  },
  {
   "cell_type": "code",
   "execution_count": 14,
   "id": "c45e3f40",
   "metadata": {
    "execution": {
     "iopub.execute_input": "2023-01-15T03:46:41.813080Z",
     "iopub.status.busy": "2023-01-15T03:46:41.811318Z",
     "iopub.status.idle": "2023-01-15T03:46:41.817167Z",
     "shell.execute_reply": "2023-01-15T03:46:41.816503Z",
     "shell.execute_reply.started": "2023-01-14T16:53:24.469405Z"
    },
    "papermill": {
     "duration": 0.035417,
     "end_time": "2023-01-15T03:46:41.817349",
     "exception": false,
     "start_time": "2023-01-15T03:46:41.781932",
     "status": "completed"
    },
    "tags": []
   },
   "outputs": [],
   "source": [
    "# create some metrics for comparing on test results\n",
    "\n",
    "def precision(y_test, y_pred):\n",
    "    tp, fp = 0, 0\n",
    "    \n",
    "    for i in range(len(y_test)):\n",
    "        if y_test[i] >= 0.5 and y_pred[i] >= 0.5:\n",
    "            tp += 1\n",
    "        elif y_test[i] < 0.5 and y_pred[i] >= 0.5:\n",
    "            fp += 1\n",
    "            \n",
    "    return tp / (tp + fp)\n",
    "\n",
    "def recall(y_test, y_pred):\n",
    "    tp, fn = 0, 0\n",
    "    \n",
    "    for i in range(len(y_test)):\n",
    "        if y_test[i] >= 0.5 and y_pred[i] >= 0.5:\n",
    "            tp += 1\n",
    "        elif y_test[i] >= 0.5 and y_pred[i] < 0.5:\n",
    "            fn += 1\n",
    "            \n",
    "    return tp / (tp + fn)\n",
    "\n",
    "def f1_score(y_test, y_pred):\n",
    "    numerator = precision(y_test, y_pred) * recall(y_test, y_pred)\n",
    "    denominator = precision(y_test, y_pred) + recall(y_test, y_pred)\n",
    "    \n",
    "    return 2 * (numerator / denominator)"
   ]
  },
  {
   "cell_type": "code",
   "execution_count": 15,
   "id": "b619370d",
   "metadata": {
    "execution": {
     "iopub.execute_input": "2023-01-15T03:46:41.867481Z",
     "iopub.status.busy": "2023-01-15T03:46:41.866650Z",
     "iopub.status.idle": "2023-01-15T03:58:10.132166Z",
     "shell.execute_reply": "2023-01-15T03:58:10.131049Z",
     "shell.execute_reply.started": "2023-01-14T16:53:24.483698Z"
    },
    "papermill": {
     "duration": 688.29529,
     "end_time": "2023-01-15T03:58:10.132507",
     "exception": false,
     "start_time": "2023-01-15T03:46:41.837217",
     "status": "completed"
    },
    "tags": []
   },
   "outputs": [
    {
     "name": "stdout",
     "output_type": "stream",
     "text": [
      "\n",
      "\n",
      "Model densenet_0.062059600512000004_3880_256_1layer_34_0.89_xray_model.h5 results:\n",
      "3/3 [==============================] - 33s 15s/step\n",
      "Test Recall: 0.9681978798586572\n",
      "Test Precision: 0.9670588235294117\n",
      "Test F1 Scores: 0.9676280164802825\n",
      "\n",
      "\n",
      "\n",
      "\n",
      "Model densenet_0.06103_4096_256_1layer_34_0.97_xray_model.h5 results:\n",
      "3/3 [==============================] - 32s 15s/step\n",
      "Test Recall: 0.9705535924617197\n",
      "Test Precision: 0.9728453364817001\n",
      "Test F1 Scores: 0.9716981132075472\n",
      "\n",
      "\n",
      "\n",
      "\n",
      "Model densenet_0.0638096812464384_3570_256_1layer_34_0.79_xray_model.h5 results:\n",
      "3/3 [==============================] - 32s 15s/step\n",
      "Test Recall: 0.9729093050647821\n",
      "Test Precision: 0.9649532710280374\n",
      "Test F1 Scores: 0.9689149560117302\n",
      "\n",
      "\n",
      "\n",
      "\n",
      "Model densenet_0.062059600512000004_3724_256_1layer_34_0.79_xray_model.h5 results:\n",
      "3/3 [==============================] - 32s 15s/step\n",
      "Test Recall: 0.9693757361601885\n",
      "Test Precision: 0.9716646989374262\n",
      "Test F1 Scores: 0.9705188679245284\n",
      "\n",
      "\n",
      "\n",
      "\n",
      "Model densenet_0.06103_4096_256_1layer_34_0.9_xray_model.h5 results:\n",
      "3/3 [==============================] - 32s 15s/step\n",
      "Test Recall: 0.967020023557126\n",
      "Test Precision: 0.9715976331360947\n",
      "Test F1 Scores: 0.9693034238488785\n",
      "\n",
      "\n",
      "\n",
      "\n",
      "Model densenet_0.06019781249664_3500_256_1layer_34_0.89_xray_model.h5 results:\n",
      "3/3 [==============================] - 33s 15s/step\n",
      "Test Recall: 0.9658421672555948\n",
      "Test Precision: 0.9704142011834319\n",
      "Test F1 Scores: 0.9681227863046045\n",
      "\n",
      "\n",
      "\n",
      "\n",
      "Model densenet_0.06103_4096_256_1layer_34_0.89_xray_model.h5 results:\n",
      "3/3 [==============================] - 32s 15s/step\n",
      "Test Recall: 0.9681978798586572\n",
      "Test Precision: 0.9659224441833137\n",
      "Test F1 Scores: 0.9670588235294117\n",
      "\n",
      "\n",
      "\n",
      "\n",
      "Model densenet_0.06103_4096_256_1layer_34_0.85_xray_model.h5 results:\n",
      "3/3 [==============================] - 34s 15s/step\n",
      "Test Recall: 0.9658421672555948\n",
      "Test Precision: 0.9681227863046045\n",
      "Test F1 Scores: 0.9669811320754716\n",
      "\n",
      "\n",
      "\n",
      "\n",
      "Model densenet_0.058588799999999996_4218_256_1layer_34_0.84_xray_model.h5 results:\n",
      "3/3 [==============================] - 32s 15s/step\n",
      "Test Recall: 0.9752650176678446\n",
      "Test Precision: 0.9706916764361079\n",
      "Test F1 Scores: 0.972972972972973\n",
      "\n",
      "\n",
      "\n",
      "\n",
      "Model densenet_0.06103_4096_256_1layer_34_0.7_xray_model.h5 results:\n",
      "3/3 [==============================] - 33s 15s/step\n",
      "Test Recall: 0.9693757361601885\n",
      "Test Precision: 0.9693757361601885\n",
      "Test F1 Scores: 0.9693757361601885\n",
      "\n",
      "\n",
      "\n",
      "\n",
      "Model densenet_0.05910438144_3880_256_1layer_34_0.89_xray_model.h5 results:\n",
      "3/3 [==============================] - 32s 15s/step\n",
      "Test Recall: 0.9693757361601885\n",
      "Test Precision: 0.9682352941176471\n",
      "Test F1 Scores: 0.9688051795173631\n",
      "\n",
      "\n",
      "\n",
      "\n",
      "Model densenet_0.06103_4096_256_1layer_34_0.71_xray_model.h5 results:\n",
      "3/3 [==============================] - 33s 15s/step\n",
      "Test Recall: 0.9729093050647821\n",
      "Test Precision: 0.9615832363213038\n",
      "Test F1 Scores: 0.9672131147540984\n",
      "\n",
      "\n",
      "\n",
      "\n",
      "Model densenet_0.06103_4096_256_1layer_34_0.81_xray_model.h5 results:\n",
      "3/3 [==============================] - 33s 15s/step\n",
      "Test Recall: 0.9717314487632509\n",
      "Test Precision: 0.9671746776084408\n",
      "Test F1 Scores: 0.9694477085781434\n",
      "\n",
      "\n",
      "\n",
      "\n",
      "Model densenet_0.06103_4096_256_1layer_34_0.78_xray_model.h5 results:\n",
      "3/3 [==============================] - 32s 15s/step\n",
      "Test Recall: 0.9764428739693758\n",
      "Test Precision: 0.9662004662004662\n",
      "Test F1 Scores: 0.9712946690099591\n",
      "\n",
      "\n",
      "\n",
      "\n",
      "Model densenet_0.06444777805890278_3890_256_1layer_34_0.84_xray_model.h5 results:\n",
      "3/3 [==============================] - 33s 15s/step\n",
      "Test Recall: 0.9681978798586572\n",
      "Test Precision: 0.9704840613931524\n",
      "Test F1 Scores: 0.9693396226415094\n",
      "\n",
      "\n"
     ]
    }
   ],
   "source": [
    "filepath_list = []\n",
    "\n",
    "for dirname, _, filenames in os.walk('/kaggle/input/pneumonia-x-ray-models'):\n",
    "    for filename in filenames:\n",
    "        if filename not in filepath_list:\n",
    "            \n",
    "            print(f'\\n\\nModel {filename} results:')\n",
    "            \n",
    "            saveModelPath = '../input/pneumonia-x-ray-models/' + filename\n",
    "            filepath_list.append(saveModelPath)\n",
    "            model = tf.keras.models.load_model(saveModelPath)\n",
    "\n",
    "            \n",
    "            test_ds = test_list_ds.map(process_path, num_parallel_calls=AUTOTUNE)\n",
    "            test_ds = test_ds.batch(BATCH_SIZE)\n",
    "            \n",
    "            y_preds = model.predict(test_ds, batch_size = BATCH_SIZE, verbose = True)\n",
    "            y_preds = y_preds.reshape(-1)\n",
    "            y_actual = [1 if x == True else 0 for x in y_test]\n",
    "            \n",
    "            print(f'Test Recall: {recall(y_actual, y_preds)}')\n",
    "            print(f'Test Precision: {precision(y_actual, y_preds)}')\n",
    "            print(f'Test F1 Scores: {f1_score(y_actual, y_preds)}\\n\\n')"
   ]
  },
  {
   "cell_type": "code",
   "execution_count": 16,
   "id": "ac5f82d6",
   "metadata": {
    "execution": {
     "iopub.execute_input": "2023-01-15T03:58:10.232134Z",
     "iopub.status.busy": "2023-01-15T03:58:10.231172Z",
     "iopub.status.idle": "2023-01-15T03:58:53.860660Z",
     "shell.execute_reply": "2023-01-15T03:58:53.860086Z",
     "shell.execute_reply.started": "2023-01-14T17:06:53.795760Z"
    },
    "papermill": {
     "duration": 43.681136,
     "end_time": "2023-01-15T03:58:53.860845",
     "exception": false,
     "start_time": "2023-01-15T03:58:10.179709",
     "status": "completed"
    },
    "tags": []
   },
   "outputs": [
    {
     "name": "stdout",
     "output_type": "stream",
     "text": [
      "3/3 [==============================] - 32s 15s/step\n"
     ]
    }
   ],
   "source": [
    "model = tf.keras.models.load_model('../input/pneumonia-x-ray-models/densenet_0.058588799999999996_4218_256_1layer_34_0.84_xray_model.h5')\n",
    "test_ds = test_list_ds.map(process_path, num_parallel_calls=AUTOTUNE)\n",
    "test_ds = test_ds.batch(BATCH_SIZE)\n",
    "            \n",
    "y_preds = model.predict(test_ds, batch_size = BATCH_SIZE, verbose = True)\n",
    "y_preds = y_preds.reshape(-1)"
   ]
  },
  {
   "cell_type": "code",
   "execution_count": 17,
   "id": "c3156001",
   "metadata": {
    "execution": {
     "iopub.execute_input": "2023-01-15T03:58:53.955441Z",
     "iopub.status.busy": "2023-01-15T03:58:53.954625Z",
     "iopub.status.idle": "2023-01-15T03:58:53.963939Z",
     "shell.execute_reply": "2023-01-15T03:58:53.963386Z",
     "shell.execute_reply.started": "2023-01-14T17:15:58.140486Z"
    },
    "papermill": {
     "duration": 0.057057,
     "end_time": "2023-01-15T03:58:53.964083",
     "exception": false,
     "start_time": "2023-01-15T03:58:53.907026",
     "status": "completed"
    },
    "tags": []
   },
   "outputs": [
    {
     "name": "stdout",
     "output_type": "stream",
     "text": [
      "AUC score: 0.990128616073545\n"
     ]
    }
   ],
   "source": [
    "fpr, tpr, thresholds = roc_curve(y_actual, y_preds, pos_label=1)\n",
    "print(f'AUC score: {auc(fpr, tpr)}')"
   ]
  },
  {
   "cell_type": "code",
   "execution_count": null,
   "id": "22f81352",
   "metadata": {
    "papermill": {
     "duration": 0.042274,
     "end_time": "2023-01-15T03:58:54.050712",
     "exception": false,
     "start_time": "2023-01-15T03:58:54.008438",
     "status": "completed"
    },
    "tags": []
   },
   "outputs": [],
   "source": []
  },
  {
   "cell_type": "code",
   "execution_count": 18,
   "id": "6f82927a",
   "metadata": {
    "execution": {
     "iopub.execute_input": "2023-01-15T03:58:54.164299Z",
     "iopub.status.busy": "2023-01-15T03:58:54.163612Z",
     "iopub.status.idle": "2023-01-15T03:58:54.409177Z",
     "shell.execute_reply": "2023-01-15T03:58:54.409732Z",
     "shell.execute_reply.started": "2023-01-14T17:19:41.120649Z"
    },
    "papermill": {
     "duration": 0.31577,
     "end_time": "2023-01-15T03:58:54.409918",
     "exception": false,
     "start_time": "2023-01-15T03:58:54.094148",
     "status": "completed"
    },
    "tags": []
   },
   "outputs": [
    {
     "data": {
      "image/png": "[encoded data removed]",
      "text/plain": [
       "<Figure size 720x360 with 1 Axes>"
      ]
     },
     "metadata": {
      "needs_background": "light"
     },
     "output_type": "display_data"
    }
   ],
   "source": [
    "plt.figure(figsize=(10, 5))\n",
    "plt.plot(fpr, tpr, label='model')\n",
    "plt.xlabel('False Positive Rate')\n",
    "plt.ylabel('True Positive Rate')\n",
    "plt.title(f'AUC for Best Test Model', fontsize=14)\n",
    "plt.show()"
   ]
  },
  {
   "cell_type": "code",
   "execution_count": null,
   "id": "67b26f06",
   "metadata": {
    "papermill": {
     "duration": 0.043353,
     "end_time": "2023-01-15T03:58:54.496469",
     "exception": false,
     "start_time": "2023-01-15T03:58:54.453116",
     "status": "completed"
    },
    "tags": []
   },
   "outputs": [],
   "source": []
  }
 ],
 "metadata": {
  "kernelspec": {
   "display_name": "Python 3",
   "language": "python",
   "name": "python3"
  },
  "language_info": {
   "codemirror_mode": {
    "name": "ipython",
    "version": 3
   },
   "file_extension": ".py",
   "mimetype": "text/x-python",
   "name": "python",
   "nbconvert_exporter": "python",
   "pygments_lexer": "ipython3",
   "version": "3.7.10"
  },
  "papermill": {
   "default_parameters": {},
   "duration": 807.256186,
   "end_time": "2023-01-15T03:58:57.295722",
   "environment_variables": {},
   "exception": null,
   "input_path": "__notebook__.ipynb",
   "output_path": "__notebook__.ipynb",
   "parameters": {},
   "start_time": "2023-01-15T03:45:30.039536",
   "version": "2.3.3"
  }
 },
 "nbformat": 4,
 "nbformat_minor": 5
}
